{
 "cells": [
  {
   "cell_type": "code",
   "execution_count": 1,
   "id": "6ed84303-b0b6-47fe-884b-fd171257e234",
   "metadata": {},
   "outputs": [
    {
     "name": "stdout",
     "output_type": "stream",
     "text": [
      "3.8.16\n"
     ]
    }
   ],
   "source": [
    "%matplotlib ipympl\n",
    "\n",
    "from platform import python_version\n",
    "print(python_version())"
   ]
  },
  {
   "cell_type": "code",
   "execution_count": null,
   "id": "3c17f819",
   "metadata": {},
   "outputs": [
    {
     "name": "stdout",
     "output_type": "stream",
     "text": [
      "clone=0 of 147\n",
      "... calculating\n"
     ]
    }
   ],
   "source": [
    "from pyLinG3D import linG3DAll\n",
    "\n",
    "\"\"\"\n",
    "The following parameters need to be specified:\n",
    "        pathData    -- directory with input data\n",
    "        numClones   -- total number of clones in the data\n",
    "        IsGradient -- 1 to draw drug in the background, 0 not to draw\n",
    "        xmin,xmax,ymin,ymax -- dimensions of the spacial domain\n",
    "        tmin, tmax          -- dimensions of the temporal domain\n",
    "        fileStep            -- frequency of the sampled data\n",
    "        toPrint    -- 1 to save the generated figure, 0 not to save\n",
    "        \n",
    "It requires the following data in the pathData/data/ directory:\n",
    "        cell_history.txt -- file with info about each cell\n",
    "        cellID_##.txt    -- cell IDs in a file with index number ##\n",
    "        cellXY_##.txt    -- cell coordinates in a file with index ##\n",
    "        drug.txt         -- concentration of a drug for background\n",
    "        \n",
    "for the examples discussed in the paper use:\n",
    "        example 1: pathData='exampleB05';  numClones=9;\n",
    "        example 2: pathData='exampleB005'; numClones=147;\n",
    "        example 3: pathData='exampleExp';  numClones=10;\n",
    "\"\"\"\n",
    "    \n",
    "pathData = 'exampleB05'\n",
    "numClones = 147\n",
    "    \n",
    "toPrint=1                # save the final figure\n",
    "IsGradient = 1           # draw drug gradient in the background 1-yes; 0-no;\n",
    "xmin=-100; xmax=100; ymin=xmin; ymax=xmax  # 2D domain boundaries\n",
    "tmin=0; tmax=100000                        # time/iteration boundaries\n",
    "fileStep = 2000       # frequency of data \n",
    "    \n",
    "linG3DAll(pathData,numClones,IsGradient,xmin,xmax,ymin,ymax,tmin,tmax,fileStep,toPrint)     "
   ]
  },
  {
   "cell_type": "code",
   "execution_count": null,
   "id": "5bee706b",
   "metadata": {},
   "outputs": [],
   "source": []
  },
  {
   "cell_type": "code",
   "execution_count": null,
   "id": "ea499f9d-d509-4f1b-8028-4488b694d0ef",
   "metadata": {},
   "outputs": [],
   "source": [
    "\n"
   ]
  },
  {
   "cell_type": "code",
   "execution_count": null,
   "id": "e3fcc663-62b4-4068-a490-9d7ec211b2e4",
   "metadata": {},
   "outputs": [],
   "source": []
  }
 ],
 "metadata": {
  "kernelspec": {
   "display_name": "Python 3 (ipykernel)",
   "language": "python",
   "name": "python3"
  },
  "language_info": {
   "codemirror_mode": {
    "name": "ipython",
    "version": 3
   },
   "file_extension": ".py",
   "mimetype": "text/x-python",
   "name": "python",
   "nbconvert_exporter": "python",
   "pygments_lexer": "ipython3",
   "version": "3.8.16"
  }
 },
 "nbformat": 4,
 "nbformat_minor": 5
}
